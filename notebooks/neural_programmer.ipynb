{
 "cells": [
  {
   "cell_type": "code",
   "execution_count": 5,
   "metadata": {},
   "outputs": [],
   "source": [
    "import copy\n",
    "import matplotlib.pyplot as plt\n",
    "import numpy as np\n",
    "import pandas as pd\n",
    "import seaborn as sns\n",
    "import tensorflow as tf\n",
    "import time\n",
    "import re\n",
    "import itertools\n",
    "import sys\n",
    "import pickle\n",
    "import os\n",
    "import string\n",
    "import autoreload\n",
    "\n",
    "from random import shuffle\n",
    "from IPython.display import clear_output, display, Image, HTML\n",
    "from scipy.spatial.distance import cosine\n",
    "\n",
    "sys.path.append('../neural_programmer')\n",
    "\n",
    "from notebook_utils import init_data, build_graph, restore_model\n",
    "from neural_programmer import evaluate"
   ]
  },
  {
   "cell_type": "code",
   "execution_count": 6,
   "metadata": {},
   "outputs": [],
   "source": [
    "%reload_ext autoreload\n",
    "%autoreload 2"
   ]
  },
  {
   "cell_type": "markdown",
   "metadata": {},
   "source": [
    "## Paths, parameters, etc. "
   ]
  },
  {
   "cell_type": "code",
   "execution_count": 7,
   "metadata": {},
   "outputs": [],
   "source": [
    "# Use only one GPU on the multi-GPU machine\n",
    "os.environ[\"CUDA_VISIBLE_DEVICES\"]=\"1\"\n",
    "\n",
    "# WikiTableQuestions data\n",
    "DATA_DIR = 'wtq_data'\n",
    "PERTURBED_DATA_DIR = 'perturbed_wtq_data'\n",
    "\n",
    "# Pretrained model\n",
    "MODEL_FILE = os.path.join('pretrained_model', 'model_92500')\n",
    "\n",
    "# Output directory to write attributions\n",
    "OUT_DIR = '/tmp'"
   ]
  },
  {
   "cell_type": "markdown",
   "metadata": {},
   "source": [
    "## Load data, build graph and restore pretrained weights"
   ]
  },
  {
   "cell_type": "code",
   "execution_count": 9,
   "metadata": {
    "scrolled": false
   },
   "outputs": [
    {
     "name": "stdout",
     "output_type": "stream",
     "text": [
      "Annotated examples loaded  14152\n",
      "Annotated examples loaded  4344\n",
      "entry match token:  9133 9133\n",
      "entry match token:  9134 9134\n",
      "# train examples  10178\n",
      "# dev examples  2546\n",
      "# test examples  3913\n"
     ]
    }
   ],
   "source": [
    "train_data, dev_data, test_data, utility = init_data(DATA_DIR)"
   ]
  },
  {
   "cell_type": "code",
   "execution_count": 12,
   "metadata": {
    "scrolled": true
   },
   "outputs": [
    {
     "name": "stdout",
     "output_type": "stream",
     "text": [
      "forget gate bias\n",
      "step:  0\n",
      "step:  1\n",
      "step:  2\n",
      "step:  3\n",
      "optimize params  ['unit', 'word', 'word_match_feature_column_name', 'controller', 'column_controller', 'column_controller_prev', 'controller_prev', 'question_lstm_ix', 'question_lstm_fx', 'question_lstm_cx', 'question_lstm_ox', 'question_lstm_im', 'question_lstm_fm', 'question_lstm_cm', 'question_lstm_om', 'question_lstm_i', 'question_lstm_f', 'question_lstm_c', 'question_lstm_o', 'history_recurrent', 'history_recurrent_bias', 'break_conditional']\n",
      "grads:  Tensor(\"gradients/L2Loss_grad/mul:0\", shape=(15, 256), dtype=float64) unit\n",
      "grads:  Tensor(\"gradients/L2Loss_1_grad/mul:0\", shape=(10800, 256), dtype=float64) word\n",
      "grads:  Tensor(\"gradients/L2Loss_2_grad/mul:0\", shape=(1,), dtype=float64) word_match_feature_column_name\n",
      "grads:  Tensor(\"gradients/L2Loss_3_grad/mul:0\", shape=(512, 256), dtype=float64) controller\n",
      "grads:  Tensor(\"gradients/L2Loss_4_grad/mul:0\", shape=(512, 256), dtype=float64) column_controller\n",
      "grads:  Tensor(\"gradients/L2Loss_5_grad/mul:0\", shape=(256, 256), dtype=float64) column_controller_prev\n",
      "grads:  Tensor(\"gradients/L2Loss_6_grad/mul:0\", shape=(256, 256), dtype=float64) controller_prev\n",
      "grads:  Tensor(\"gradients/L2Loss_7_grad/mul:0\", shape=(256, 256), dtype=float64) question_lstm_ix\n",
      "grads:  Tensor(\"gradients/L2Loss_8_grad/mul:0\", shape=(256, 256), dtype=float64) question_lstm_fx\n",
      "grads:  Tensor(\"gradients/L2Loss_9_grad/mul:0\", shape=(256, 256), dtype=float64) question_lstm_cx\n",
      "grads:  Tensor(\"gradients/L2Loss_10_grad/mul:0\", shape=(256, 256), dtype=float64) question_lstm_ox\n",
      "grads:  Tensor(\"gradients/L2Loss_11_grad/mul:0\", shape=(256, 256), dtype=float64) question_lstm_im\n",
      "grads:  Tensor(\"gradients/L2Loss_12_grad/mul:0\", shape=(256, 256), dtype=float64) question_lstm_fm\n",
      "grads:  Tensor(\"gradients/L2Loss_13_grad/mul:0\", shape=(256, 256), dtype=float64) question_lstm_cm\n",
      "grads:  Tensor(\"gradients/L2Loss_14_grad/mul:0\", shape=(256, 256), dtype=float64) question_lstm_om\n",
      "grads:  Tensor(\"gradients/L2Loss_15_grad/mul:0\", shape=(256,), dtype=float64) question_lstm_i\n",
      "grads:  Tensor(\"gradients/L2Loss_16_grad/mul:0\", shape=(256,), dtype=float64) question_lstm_f\n",
      "grads:  Tensor(\"gradients/L2Loss_17_grad/mul:0\", shape=(256,), dtype=float64) question_lstm_c\n",
      "grads:  Tensor(\"gradients/L2Loss_18_grad/mul:0\", shape=(256,), dtype=float64) question_lstm_o\n",
      "grads:  Tensor(\"gradients/L2Loss_19_grad/mul:0\", shape=(768, 256), dtype=float64) history_recurrent\n",
      "grads:  Tensor(\"gradients/L2Loss_20_grad/mul:0\", shape=(1, 256), dtype=float64) history_recurrent_bias\n",
      "grads:  Tensor(\"gradients/L2Loss_21_grad/mul:0\", shape=(512, 256), dtype=float64) break_conditional\n"
     ]
    }
   ],
   "source": [
    "tf.reset_default_graph()\n",
    "sess, graph, params = build_graph(utility)"
   ]
  },
  {
   "cell_type": "code",
   "execution_count": 13,
   "metadata": {},
   "outputs": [
    {
     "name": "stdout",
     "output_type": "stream",
     "text": [
      "INFO:tensorflow:Restoring parameters from /home/pramodkm/interpreting_np/trained_model/model_92500\n"
     ]
    }
   ],
   "source": [
    "sess, graph = restore_model(sess, graph, params, MODEL_FILE)"
   ]
  },
  {
   "cell_type": "code",
   "execution_count": 14,
   "metadata": {},
   "outputs": [
    {
     "name": "stdout",
     "output_type": "stream",
     "text": [
      "dev set accuracy   after  92500  :  0.3720472446811481\n",
      "2540.0 2546\n",
      "--------\n"
     ]
    }
   ],
   "source": [
    "evaluate(sess, dev_data, utility.FLAGS.batch_size, graph, 92500)"
   ]
  },
  {
   "cell_type": "markdown",
   "metadata": {},
   "source": [
    "## Apply Integrated Gradients (IG) "
   ]
  },
  {
   "cell_type": "code",
   "execution_count": null,
   "metadata": {},
   "outputs": [],
   "source": []
  }
 ],
 "metadata": {
  "kernelspec": {
   "display_name": "Python 3",
   "language": "python",
   "name": "python3"
  },
  "language_info": {
   "codemirror_mode": {
    "name": "ipython",
    "version": 3
   },
   "file_extension": ".py",
   "mimetype": "text/x-python",
   "name": "python",
   "nbconvert_exporter": "python",
   "pygments_lexer": "ipython3",
   "version": "3.6.2"
  }
 },
 "nbformat": 4,
 "nbformat_minor": 2
}
